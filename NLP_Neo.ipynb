{
 "cells": [
  {
   "cell_type": "markdown",
   "metadata": {
    "colab_type": "text",
    "id": "8-qYFUdKmq0d"
   },
   "source": [
    "\n",
    "<ul>\n",
    "<li>[Part 1: Load Data]\n",
    "<li>[Part 2: Tokenizing and Stemming]\n",
    "<li>[Part 3: TF-IDF]\n",
    "<li>[Part 4: K-means clustering]\n",
    "<li>[Part 5: Topic Modeling - Latent Dirichlet Allocation]\n",
    "</ul>"
   ]
  },
  {
   "cell_type": "markdown",
   "metadata": {
    "colab_type": "text",
    "id": "8IzN0Xu5oplt"
   },
   "source": [
    "# Load Data"
   ]
  },
  {
   "cell_type": "code",
   "execution_count": 2,
   "metadata": {
    "colab": {
     "base_uri": "https://localhost:8080/",
     "height": 102
    },
    "colab_type": "code",
    "id": "mg2pxbRhop8N",
    "outputId": "c227f9dc-7713-4dca-9694-a86565903a21"
   },
   "outputs": [
    {
     "name": "stderr",
     "output_type": "stream",
     "text": [
      "[nltk_data] Downloading package punkt to /Users/yintonglu/nltk_data...\n",
      "[nltk_data]   Package punkt is already up-to-date!\n",
      "[nltk_data] Downloading package stopwords to\n",
      "[nltk_data]     /Users/yintonglu/nltk_data...\n",
      "[nltk_data]   Package stopwords is already up-to-date!\n"
     ]
    },
    {
     "data": {
      "text/plain": [
       "True"
      ]
     },
     "execution_count": 2,
     "metadata": {},
     "output_type": "execute_result"
    }
   ],
   "source": [
    "import warnings\n",
    "warnings.filterwarnings('ignore')\n",
    "import re\n",
    "import os\n",
    "\n",
    "import numpy as np\n",
    "import pandas as pd\n",
    "import nltk\n",
    "from sklearn import decomposition\n",
    "from sklearn.feature_extraction.text import TfidfVectorizer\n",
    "import matplotlib.pyplot as plt\n",
    "\n",
    "nltk.download('punkt')\n",
    "nltk.download('stopwords')"
   ]
  },
  {
   "cell_type": "markdown",
   "metadata": {
    "colab_type": "text",
    "id": "D0TObDMFoymP"
   },
   "source": [
    "## Read data from files. In summary, we have 100 titles and 100 synoposes (combined from imdb and wiki)."
   ]
  },
  {
   "cell_type": "code",
   "execution_count": 68,
   "metadata": {
    "colab": {},
    "colab_type": "code",
    "id": "Y629v3Hqovwv"
   },
   "outputs": [
    {
     "name": "stdout",
     "output_type": "stream",
     "text": [
      "Example of 1 synopse  Synopsis  [edit]  [  [  edit  edit  ]  ]  \n",
      "  In the early days of World War II, Cohan comes out of retirement to star as President Roosevelt in the Rodgers and Hart musical I'd Rather Be Right. On the first night, he is summoned to meet the President at the White House, who presents him with a Congressional Gold Medal (in fact, this happened several years previously). Cohan is overcome and chats with Roosevelt, recalling his early days on the stage. The film flashes back to his supposed birth on July 4, whilst his father is performing on the vaudeville stage.  In the early days of   World War II  World War II  , Cohan comes out of retirement to star as President Roosevelt in the   Rodgers and Hart  Rodgers and Hart   musical   I'd Rather Be Right.  I'd Rather Be Right  I'd Rather Be Right  .   On the first night, he is summoned to meet the President at the   White House  White House  , who presents him with a   Congressional Gold Medal  Congressional Gold Medal   (in fact, this happened several years previously). Cohan is overcome and chats with Roosevelt, recalling his early days on the stage. The film flashes back to his supposed birth on July 4, whilst his father is performing on the   vaudeville  vaudeville   stage.  \n",
      "  Cohan and his sister join the family act as soon as they can learn to dance, and soon The Four Cohans are performing successfully. But George gets too cocky as he grows up and is blacklisted by theatrical producers for being troublesome. He leaves the act and hawks his songs unsuccessfully around producers. In partnership with another struggling writer, Sam Harris, he finally interests a producer and they are on the road to success. He also marries Mary, a young singer/dancer.  Cohan and his sister join the family act as soon as they can learn to dance, and soon The Four Cohans are performing successfully. But George gets too cocky as he grows up and is blacklisted by theatrical producers for being troublesome. He leaves the act and hawks his songs unsuccessfully around producers. In partnership with another struggling writer, Sam Harris, he finally interests a producer and they are on the road to success. He also marries Mary, a young singer/dancer.  \n",
      "  As his star ascends, he persuades his now struggling parents to join his act, eventually vesting some of his valuable theatrical properties in their name.  As his star ascends, he persuades his now struggling parents to join his act, eventually vesting some of his valuable theatrical properties in their name.  \n",
      "  Cohan retires, but returns to the stage several times, culminating in the role of the U.S. President. As he leaves the White House, he performs a dance step down the stairs (which Cagney thought up before the scene was filmed and performed with no rehearsal). Outside, he joins a military parade, where the soldiers are singing \"Over There\". Not knowing that Cohan is the song's composer, they jokingly invite him to join in, which he does.  Cohan retires, but returns to the stage several times, culminating in the role of the U.S. President. As he leaves the White House, he performs a dance step down the stairs (which Cagney thought up before the scene was filmed and performed with no rehearsal). Outside, he joins a military parade, where the soldiers are singing \"Over There\". Not knowing that Cohan is the song's composer, they jokingly invite him to join in, which he does.  \n",
      "\n",
      "\n"
     ]
    }
   ],
   "source": [
    "#import three lists: titles, synopses_wiki, synopses_imdb (The wiki and imdb synopses are seperated by \"BREAKS HERE\".)\n",
    "titles = open('title_list.txt').read().split('\\n')\n",
    "titles = titles[:100] \n",
    "synopses_wiki = open('synopses_list_wiki.txt').read().split('\\n BREAKS HERE')\n",
    "synopses_wiki = synopses_wiki[:100]\n",
    "synopses_imdb = open('synopses_list_imdb.txt').read().split('\\n BREAKS HERE')\n",
    "synopses_imdb = synopses_imdb[:100]\n",
    "synopses = []     # Already ordered in popularity order\n",
    "for i in range(len(synopses_wiki)):\n",
    "    item = synopses_wiki[i] + synopses_imdb[i]\n",
    "    synopses.append(item)\n",
    "print('Example of 1 synopse', item)"
   ]
  },
  {
   "cell_type": "markdown",
   "metadata": {
    "colab_type": "text",
    "id": "jkUWhH3Do3Eu"
   },
   "source": [
    "# Data-Preprocessing: Tokenizing and Stemming"
   ]
  },
  {
   "cell_type": "code",
   "execution_count": 69,
   "metadata": {
    "colab": {
     "base_uri": "https://localhost:8080/",
     "height": 51
    },
    "colab_type": "code",
    "id": "bNVoPyCKpAHn",
    "outputId": "7a370c7c-2e90-48b5-856a-183a54aad0f3"
   },
   "outputs": [
    {
     "name": "stdout",
     "output_type": "stream",
     "text": [
      "179 stop-words from nltk library are used..\n",
      "Examples of stopwords:  ['i', 'me', 'my', 'myself', 'we', 'our', 'ours', 'ourselves', 'you', \"you're\"]\n"
     ]
    }
   ],
   "source": [
    "# Use nltk's English stopwords.\n",
    "stopwords = nltk.corpus.stopwords.words('english')\n",
    "print (str(len(stopwords)) + \" stop-words from nltk library are used..\")\n",
    "print (\"Examples of stopwords: \",stopwords[:10])"
   ]
  },
  {
   "cell_type": "code",
   "execution_count": 70,
   "metadata": {
    "colab": {},
    "colab_type": "code",
    "id": "kFMKYyEVpCkE"
   },
   "outputs": [],
   "source": [
    "from nltk.stem.snowball import SnowballStemmer\n",
    "stemmer = SnowballStemmer(\"english\")\n",
    "def tokenization_and_stemming(text):\n",
    "    # exclude stop words and lowercase the rest\n",
    "    tokens = [word.lower() for sent in nltk.sent_tokenize(text) for word in nltk.word_tokenize(sent) if word not in stopwords]\n",
    "    filtered_tokens = []\n",
    "    for token in tokens:\n",
    "        if re.search('[a-zA-Z]', token):\n",
    "            filtered_tokens.append(token) #filter non-letter tokens\n",
    "    \n",
    "    stems = [stemmer.stem(t) for t in filtered_tokens] #stemming\n",
    "    return stems\n",
    "\n",
    "def tokenization(text):\n",
    "    tokens = [word.lower() for sent in nltk.sent_tokenize(text) for word in nltk.word_tokenize(sent) if word not in stopwords]\n",
    "    filtered_tokens = []\n",
    "    for token in tokens:\n",
    "        if re.search('[a-zA-Z]', token):\n",
    "            filtered_tokens.append(token)\n",
    "    return filtered_tokens"
   ]
  },
  {
   "cell_type": "code",
   "execution_count": 71,
   "metadata": {
    "colab": {
     "base_uri": "https://localhost:8080/",
     "height": 34
    },
    "colab_type": "code",
    "id": "axd-hR2zpEU3",
    "outputId": "50455ebd-a103-41c9-8a0b-a9424ac2c273"
   },
   "outputs": [
    {
     "data": {
      "text/plain": [
       "['in', 'lord', 'labor', 'never', 'vain']"
      ]
     },
     "execution_count": 71,
     "metadata": {},
     "output_type": "execute_result"
    }
   ],
   "source": [
    "# Example of a short sentence after tokenization and stemming\n",
    "tokenization_and_stemming(\"In the lord your labor is never in vain. \")"
   ]
  },
  {
   "cell_type": "code",
   "execution_count": 72,
   "metadata": {
    "colab": {},
    "colab_type": "code",
    "id": "FlUaz9q6pLXH"
   },
   "outputs": [
    {
     "name": "stdout",
     "output_type": "stream",
     "text": [
      "happened\n",
      "angeles\n"
     ]
    }
   ],
   "source": [
    "docs_stemmed = []\n",
    "docs_tokenized = []\n",
    "for i in synopses:\n",
    "    tokenized_and_stemmed_results = tokenization_and_stemming(i)\n",
    "    docs_stemmed.extend(tokenized_and_stemmed_results)\n",
    "    tokenized_results = tokenization(i)\n",
    "    docs_tokenized.extend(tokenized_results)\n",
    "#Compare tokenized_and_stemmed_results with tokenized_results for result interpretation\n",
    "vocab_frame_dict = {docs_stemmed[x]:docs_tokenized[x] for x in range(len(docs_stemmed))}\n",
    "print (vocab_frame_dict['happen'])\n",
    "print (vocab_frame_dict['angel'])"
   ]
  },
  {
   "cell_type": "markdown",
   "metadata": {
    "colab_type": "text",
    "id": "4fH9qBJep6Yk"
   },
   "source": [
    "# TF-IDF\n",
    "\n"
   ]
  },
  {
   "cell_type": "code",
   "execution_count": 73,
   "metadata": {
    "colab": {
     "base_uri": "https://localhost:8080/",
     "height": 34
    },
    "colab_type": "code",
    "id": "KSwEhuEMqAgg",
    "outputId": "5aab100d-6b0a-4fca-a87c-757015cf5189"
   },
   "outputs": [
    {
     "name": "stdout",
     "output_type": "stream",
     "text": [
      "In total, there are 100 synoposes and 1305 terms.\n",
      "In total there are  1305 term-frequency selected words (features)\n",
      "Examples of them are:  [\"'d\", \"'m\", \"'s apart\", \"'s bodi\", \"'s death\"] ['york citi', 'young', 'young man', 'young woman']\n",
      "Model Summary below\n"
     ]
    },
    {
     "data": {
      "text/plain": [
       "{'analyzer': 'word',\n",
       " 'binary': False,\n",
       " 'decode_error': 'strict',\n",
       " 'dtype': numpy.float64,\n",
       " 'encoding': 'utf-8',\n",
       " 'input': 'content',\n",
       " 'lowercase': True,\n",
       " 'max_df': 0.9,\n",
       " 'max_features': 2000,\n",
       " 'min_df': 0.1,\n",
       " 'ngram_range': (1, 3),\n",
       " 'norm': 'l2',\n",
       " 'preprocessor': None,\n",
       " 'smooth_idf': True,\n",
       " 'stop_words': 'english',\n",
       " 'strip_accents': None,\n",
       " 'sublinear_tf': False,\n",
       " 'token_pattern': '(?u)\\\\b\\\\w\\\\w+\\\\b',\n",
       " 'tokenizer': <function __main__.tokenization_and_stemming(text)>,\n",
       " 'use_idf': True,\n",
       " 'vocabulary': None}"
      ]
     },
     "execution_count": 73,
     "metadata": {},
     "output_type": "execute_result"
    }
   ],
   "source": [
    "tfidf_model = TfidfVectorizer(max_df=0.9, max_features = 2000,\n",
    "                                 min_df=0.1, stop_words='english',\n",
    "                                 use_idf=True, tokenizer=tokenization_and_stemming, ngram_range=(1,3))\n",
    "tfidf_matrix = tfidf_model.fit_transform(synopses) \n",
    "tf_selected_words = tfidf_model.get_feature_names() \n",
    "print (\"In total, there are \" + str(tfidf_matrix.shape[0]) + \\\n",
    "      \" synoposes and \" + str(tfidf_matrix.shape[1]) + \" terms.\")\n",
    "print(\"In total there are \", len(tf_selected_words), \"term-frequency selected words (features)\")\n",
    "print(\"Examples of them are: \", tf_selected_words[0:5],tf_selected_words[-5:-1])\n",
    "print(\"Model Summary below\")\n",
    "tfidf_model.get_params()\n"
   ]
  },
  {
   "cell_type": "markdown",
   "metadata": {
    "colab_type": "text",
    "id": "V6K2lzpQq1IY"
   },
   "source": [
    "# Document Similarity (Cosine similarity)"
   ]
  },
  {
   "cell_type": "code",
   "execution_count": 74,
   "metadata": {
    "colab": {
     "base_uri": "https://localhost:8080/",
     "height": 136
    },
    "colab_type": "code",
    "id": "Xao2JGttq4DY",
    "outputId": "2061269d-1c8d-459f-9c7a-e8b7508cda2a"
   },
   "outputs": [
    {
     "name": "stdout",
     "output_type": "stream",
     "text": [
      "[[1.         0.07289099 0.08904917 ... 0.07365267 0.11985441 0.07697231]\n",
      " [0.07289099 1.         0.24039994 ... 0.07267906 0.11486799 0.05750792]\n",
      " [0.08904917 0.24039994 1.         ... 0.09032729 0.11719362 0.12189691]\n",
      " ...\n",
      " [0.07365267 0.07267906 0.09032729 ... 1.         0.15819013 0.09437982]\n",
      " [0.11985441 0.11486799 0.11719362 ... 0.15819013 1.         0.07113557]\n",
      " [0.07697231 0.05750792 0.12189691 ... 0.09437982 0.07113557 1.        ]]\n",
      "(100, 100)\n"
     ]
    }
   ],
   "source": [
    "from sklearn.metrics.pairwise import cosine_similarity\n",
    "cos_matrix = cosine_similarity(tfidf_matrix)\n",
    "print (cos_matrix)\n",
    "print(cos_matrix.shape)"
   ]
  },
  {
   "cell_type": "markdown",
   "metadata": {
    "colab_type": "text",
    "id": "r-nGukSaq6Uq"
   },
   "source": [
    "# Part 4: K-means clustering"
   ]
  },
  {
   "cell_type": "code",
   "execution_count": 93,
   "metadata": {
    "colab": {},
    "colab_type": "code",
    "id": "Lk3iymJ4q8MK"
   },
   "outputs": [
    {
     "data": {
      "text/html": [
       "<div>\n",
       "<style scoped>\n",
       "    .dataframe tbody tr th:only-of-type {\n",
       "        vertical-align: middle;\n",
       "    }\n",
       "\n",
       "    .dataframe tbody tr th {\n",
       "        vertical-align: top;\n",
       "    }\n",
       "\n",
       "    .dataframe thead th {\n",
       "        text-align: right;\n",
       "    }\n",
       "</style>\n",
       "<table border=\"1\" class=\"dataframe\">\n",
       "  <thead>\n",
       "    <tr style=\"text-align: right;\">\n",
       "      <th></th>\n",
       "      <th>rank</th>\n",
       "      <th>title</th>\n",
       "      <th>cluster</th>\n",
       "    </tr>\n",
       "  </thead>\n",
       "  <tbody>\n",
       "    <tr>\n",
       "      <th>3</th>\n",
       "      <td>0</td>\n",
       "      <td>The Godfather</td>\n",
       "      <td>3</td>\n",
       "    </tr>\n",
       "    <tr>\n",
       "      <th>1</th>\n",
       "      <td>1</td>\n",
       "      <td>The Shawshank Redemption</td>\n",
       "      <td>1</td>\n",
       "    </tr>\n",
       "    <tr>\n",
       "      <th>0</th>\n",
       "      <td>2</td>\n",
       "      <td>Schindler's List</td>\n",
       "      <td>0</td>\n",
       "    </tr>\n",
       "    <tr>\n",
       "      <th>1</th>\n",
       "      <td>3</td>\n",
       "      <td>Raging Bull</td>\n",
       "      <td>1</td>\n",
       "    </tr>\n",
       "    <tr>\n",
       "      <th>6</th>\n",
       "      <td>4</td>\n",
       "      <td>Casablanca</td>\n",
       "      <td>6</td>\n",
       "    </tr>\n",
       "    <tr>\n",
       "      <th>2</th>\n",
       "      <td>5</td>\n",
       "      <td>One Flew Over the Cuckoo's Nest</td>\n",
       "      <td>2</td>\n",
       "    </tr>\n",
       "    <tr>\n",
       "      <th>6</th>\n",
       "      <td>6</td>\n",
       "      <td>Gone with the Wind</td>\n",
       "      <td>6</td>\n",
       "    </tr>\n",
       "    <tr>\n",
       "      <th>1</th>\n",
       "      <td>7</td>\n",
       "      <td>Citizen Kane</td>\n",
       "      <td>1</td>\n",
       "    </tr>\n",
       "    <tr>\n",
       "      <th>0</th>\n",
       "      <td>8</td>\n",
       "      <td>The Wizard of Oz</td>\n",
       "      <td>0</td>\n",
       "    </tr>\n",
       "    <tr>\n",
       "      <th>2</th>\n",
       "      <td>9</td>\n",
       "      <td>Titanic</td>\n",
       "      <td>2</td>\n",
       "    </tr>\n",
       "  </tbody>\n",
       "</table>\n",
       "</div>"
      ],
      "text/plain": [
       "   rank                            title  cluster\n",
       "3     0                    The Godfather        3\n",
       "1     1         The Shawshank Redemption        1\n",
       "0     2                 Schindler's List        0\n",
       "1     3                      Raging Bull        1\n",
       "6     4                       Casablanca        6\n",
       "2     5  One Flew Over the Cuckoo's Nest        2\n",
       "6     6               Gone with the Wind        6\n",
       "1     7                     Citizen Kane        1\n",
       "0     8                 The Wizard of Oz        0\n",
       "2     9                          Titanic        2"
      ]
     },
     "execution_count": 93,
     "metadata": {},
     "output_type": "execute_result"
    }
   ],
   "source": [
    "from sklearn.cluster import KMeans\n",
    "num_clusters  = 7\n",
    "km = KMeans(n_clusters=num_clusters)\n",
    "km.fit(tfidf_matrix)\n",
    "clusters = km.labels_.tolist()\n",
    "ranks = range(len(titles))\n",
    "films = { 'title': titles, 'rank': ranks, 'synopsis': synopses, 'cluster': clusters}\n",
    "frame = pd.DataFrame(films, index = [clusters] , columns = ['rank', 'title', 'cluster'])\n",
    "frame.head(10)"
   ]
  },
  {
   "cell_type": "code",
   "execution_count": 94,
   "metadata": {
    "colab": {
     "base_uri": "https://localhost:8080/",
     "height": 221
    },
    "colab_type": "code",
    "id": "_y6Vj51drREZ",
    "outputId": "a818ba09-2816-4370-a17d-8fdda0341490"
   },
   "outputs": [
    {
     "name": "stdout",
     "output_type": "stream",
     "text": [
      "Number of films included in each cluster:\n"
     ]
    },
    {
     "data": {
      "text/html": [
       "<div>\n",
       "<style scoped>\n",
       "    .dataframe tbody tr th:only-of-type {\n",
       "        vertical-align: middle;\n",
       "    }\n",
       "\n",
       "    .dataframe tbody tr th {\n",
       "        vertical-align: top;\n",
       "    }\n",
       "\n",
       "    .dataframe thead th {\n",
       "        text-align: right;\n",
       "    }\n",
       "</style>\n",
       "<table border=\"1\" class=\"dataframe\">\n",
       "  <thead>\n",
       "    <tr style=\"text-align: right;\">\n",
       "      <th></th>\n",
       "      <th>cluster</th>\n",
       "    </tr>\n",
       "  </thead>\n",
       "  <tbody>\n",
       "    <tr>\n",
       "      <th>1</th>\n",
       "      <td>48</td>\n",
       "    </tr>\n",
       "    <tr>\n",
       "      <th>6</th>\n",
       "      <td>23</td>\n",
       "    </tr>\n",
       "    <tr>\n",
       "      <th>2</th>\n",
       "      <td>9</td>\n",
       "    </tr>\n",
       "    <tr>\n",
       "      <th>4</th>\n",
       "      <td>7</td>\n",
       "    </tr>\n",
       "    <tr>\n",
       "      <th>3</th>\n",
       "      <td>5</td>\n",
       "    </tr>\n",
       "    <tr>\n",
       "      <th>0</th>\n",
       "      <td>5</td>\n",
       "    </tr>\n",
       "    <tr>\n",
       "      <th>5</th>\n",
       "      <td>3</td>\n",
       "    </tr>\n",
       "  </tbody>\n",
       "</table>\n",
       "</div>"
      ],
      "text/plain": [
       "   cluster\n",
       "1       48\n",
       "6       23\n",
       "2        9\n",
       "4        7\n",
       "3        5\n",
       "0        5\n",
       "5        3"
      ]
     },
     "execution_count": 94,
     "metadata": {},
     "output_type": "execute_result"
    }
   ],
   "source": [
    "print (\"Number of films included in each cluster:\")\n",
    "frame['cluster'].value_counts().to_frame()"
   ]
  },
  {
   "cell_type": "code",
   "execution_count": 95,
   "metadata": {},
   "outputs": [
    {
     "name": "stdout",
     "output_type": "stream",
     "text": [
      "7\n"
     ]
    }
   ],
   "source": [
    "print(num_clusters)"
   ]
  },
  {
   "cell_type": "code",
   "execution_count": 96,
   "metadata": {
    "colab": {
     "base_uri": "https://localhost:8080/",
     "height": 394
    },
    "colab_type": "code",
    "id": "OsLLn2rkrS6T",
    "outputId": "ea90fe83-bcae-4019-f612-2e5d49dc428c"
   },
   "outputs": [
    {
     "name": "stdout",
     "output_type": "stream",
     "text": [
      "<Document clustering result by K-means>\n",
      "Cluster 0 words:tom,german,camping,family,guard,worker,\n",
      "Cluster 0 titles (5 movies): \n",
      "Schindler's List, The Wizard of Oz, To Kill a Mockingbird, The Pianist, The Grapes of Wrath\n",
      "\n",
      "Cluster 1 words:car,police,father,man,new,fight,\n",
      "Cluster 1 titles (48 movies): \n",
      "The Shawshank Redemption, Raging Bull, Citizen Kane, Psycho, Vertigo, On the Waterfront, West Side Story, The Silence of the Lambs, Chinatown, 12 Angry Men, Amadeus, Gandhi, Unforgiven, Rocky, A Streetcar Named Desire, The Best Years of Our Lives, My Fair Lady, The Good, the Bad and the Ugly, The Apartment, High Noon, The Exorcist, The French Connection, City Lights, It Happened One Night, Mr. Smith Goes to Washington, Rain Man, Annie Hall, Out of Africa, Good Will Hunting, Terms of Endearment, Fargo, Giant, Shane, The Green Mile, Close Encounters of the Third Kind, Network, Nashville, The Graduate, American Graffiti, Pulp Fiction, The Maltese Falcon, A Clockwork Orange, Taxi Driver, Wuthering Heights, Double Indemnity, Rebel Without a Cause, Rear Window, North by Northwest\n",
      "\n",
      "Cluster 2 words:captain,boat,water,jack,mission,crew,\n",
      "Cluster 2 titles (9 movies): \n",
      "One Flew Over the Cuckoo's Nest, Titanic, The Sound of Music, 2001: A Space Odyssey, The Bridge on the River Kwai, Apocalypse Now, Jaws, The African Queen, Mutiny on the Bounty\n",
      "\n",
      "Cluster 3 words:michael,family,home,friend,play,russian,\n",
      "Cluster 3 titles (5 movies): \n",
      "The Godfather, The Godfather: Part II, E.T. the Extra-Terrestrial, The Deer Hunter, Tootsie\n",
      "\n",
      "Cluster 4 words:george,henry,filmed,wedding,family,dance,\n",
      "Cluster 4 titles (7 movies): \n",
      "Singin' in the Rain, It's a Wonderful Life, The Philadelphia Story, An American in Paris, Goodfellas, A Place in the Sun, Yankee Doodle Dandy\n",
      "\n",
      "Cluster 5 words:joe,filmed,hotel,party,room,car,\n",
      "Cluster 5 titles (3 movies): \n",
      "Sunset Blvd., Some Like It Hot, Midnight Cowboy\n",
      "\n",
      "Cluster 6 words:army,soldiers,killing,german,king,war,\n",
      "Cluster 6 titles (23 movies): \n",
      "Casablanca, Gone with the Wind, Lawrence of Arabia, Forrest Gump, Star Wars, Dr. Strangelove or: How I Learned to Stop Worrying and Love the Bomb, The Lord of the Rings: The Return of the King, Gladiator, From Here to Eternity, Saving Private Ryan, Raiders of the Lost Ark, Ben-Hur, Doctor Zhivago, Patton, Braveheart, Butch Cassidy and the Sundance Kid, The Treasure of the Sierra Madre, Platoon, Dances with Wolves, All Quiet on the Western Front, The King's Speech, Stagecoach, The Third Man\n",
      "\n"
     ]
    }
   ],
   "source": [
    "print (\"<Document clustering result by K-means>\")\n",
    "order_centroids = km.cluster_centers_.argsort()[:, ::-1] \n",
    "\n",
    "Cluster_keywords_summary = {}\n",
    "for i in range(num_clusters):\n",
    "    print (\"Cluster \" + str(i) + \" words:\", end='')\n",
    "    Cluster_keywords_summary[i] = []\n",
    "    for ind in order_centroids[i, :6]: #replace 6 with n words per cluster\n",
    "        Cluster_keywords_summary[i].append(vocab_frame_dict[tf_selected_words[ind]])\n",
    "        print (vocab_frame_dict[tf_selected_words[ind]] + \",\", end='')\n",
    "    print ()\n",
    "    #Here ix means index, which is the clusterID of each item.\n",
    "    #Without tolist, the values result from dataframe is <type 'numpy.ndarray'>\n",
    "    cluster_movies = frame.ix[i]['title'].values.tolist()\n",
    "    print (\"Cluster \" + str(i) + \" titles (\" + str(len(cluster_movies)) + \" movies): \")\n",
    "    print (\", \".join(cluster_movies))\n",
    "    print ()"
   ]
  },
  {
   "cell_type": "markdown",
   "metadata": {
    "colab_type": "text",
    "id": "Qao6VxgurZtv"
   },
   "source": [
    "## Plot K-means Result"
   ]
  },
  {
   "cell_type": "code",
   "execution_count": 102,
   "metadata": {
    "colab": {},
    "colab_type": "code",
    "id": "4MVHBrFvreid"
   },
   "outputs": [
    {
     "data": {
      "image/png": "[encoded data removed]",
      "text/plain": [
       "<Figure size 1152x648 with 1 Axes>"
      ]
     },
     "metadata": {
      "needs_background": "light"
     },
     "output_type": "display_data"
    }
   ],
   "source": [
    "pca = decomposition.PCA(n_components=2)\n",
    "tfidf_matrix_np=tfidf_matrix.toarray()\n",
    "pca.fit(tfidf_matrix_np)\n",
    "X = pca.transform(tfidf_matrix_np)\n",
    "xs, ys = X[:, 0], X[:, 1]\n",
    "\n",
    "cluster_names, cluster_colors= {},{0: '#1b9e77', 1: '#d95f02', 2: '#7570b3', 3: '#e7298a', 4: '#66a61e', 5: '#339966', 6: '#330000'}\n",
    "for i in range(num_clusters):\n",
    "    cluster_names[i] = \", \".join(Cluster_keywords_summary[i])\n",
    "    \n",
    "df = pd.DataFrame(dict(x=xs, y=ys, label=clusters, title=titles)) \n",
    "groups = df.groupby(clusters)\n",
    "fig, ax = plt.subplots(figsize=(16, 9))\n",
    "#Set color for each cluster/group\n",
    "for name, group in groups:\n",
    "    ax.plot(group.x, group.y, marker='o', linestyle='', ms=12, \n",
    "            label=cluster_names[name], color=cluster_colors[name], \n",
    "            mec='none')\n",
    "\n",
    "ax.legend(numpoints=1,loc=4)\n",
    "plt.show() "
   ]
  },
  {
   "cell_type": "markdown",
   "metadata": {
    "colab": {},
    "colab_type": "code",
    "id": "Q6izXzTVrhvB"
   },
   "source": [
    "### In this section I use PCA to reduce dimensions to 2D for plotting and visibility. However, it looks like it is not a good trial."
   ]
  },
  {
   "cell_type": "markdown",
   "metadata": {
    "colab_type": "text",
    "id": "kXeWo4LVrmbs"
   },
   "source": [
    "# Part 5: Topic Modeling - Latent Dirichlet Allocation"
   ]
  },
  {
   "cell_type": "code",
   "execution_count": 105,
   "metadata": {
    "colab": {},
    "colab_type": "code",
    "id": "cBCj3USHroT6"
   },
   "outputs": [
    {
     "name": "stdout",
     "output_type": "stream",
     "text": [
      "(5, 1305)\n"
     ]
    }
   ],
   "source": [
    "# Use LDA for clustering\n",
    "from sklearn.decomposition import LatentDirichletAllocation\n",
    "lda = LatentDirichletAllocation(n_components=5, learning_method = 'online')\n",
    "tfidf_matrix_lda = (tfidf_matrix * 100) # turn them into integers\n",
    "tfidf_matrix_lda = tfidf_matrix_lda.astype(int)\n",
    "lda.fit(tfidf_matrix_lda)# topics and words matrix\n",
    "topic_word = lda.components_\n",
    "print(topic_word.shape)"
   ]
  },
  {
   "cell_type": "code",
   "execution_count": 106,
   "metadata": {
    "colab": {},
    "colab_type": "code",
    "id": "A_1l99pnr1v-"
   },
   "outputs": [],
   "source": [
    "n_top_words = 7\n",
    "topic_keywords_list = []\n",
    "for i, topic_dist in enumerate(topic_word):\n",
    "    #Here we select top(n_top_words-1)\n",
    "    lda_topic_words = np.array(tf_selected_words)[np.argsort(topic_dist)][:-n_top_words:-1] \n",
    "    for j in range(len(lda_topic_words)):\n",
    "        lda_topic_words[j] = vocab_frame_dict[lda_topic_words[j]]\n",
    "    topic_keywords_list.append(lda_topic_words.tolist())"
   ]
  },
  {
   "cell_type": "code",
   "execution_count": 107,
   "metadata": {
    "colab": {
     "base_uri": "https://localhost:8080/",
     "height": 34
    },
    "colab_type": "code",
    "id": "u4hlE1Whr6cy",
    "outputId": "7e8ee0c1-0708-48d4-b7b9-5494d79187f2"
   },
   "outputs": [
    {
     "name": "stdout",
     "output_type": "stream",
     "text": [
      "(100, 5)\n"
     ]
    }
   ],
   "source": [
    "# documents and topics matrix\n",
    "doc_topic = lda.transform(tfidf_matrix_lda)\n",
    "print (doc_topic.shape)"
   ]
  },
  {
   "cell_type": "code",
   "execution_count": 108,
   "metadata": {
    "colab": {
     "base_uri": "https://localhost:8080/",
     "height": 394
    },
    "colab_type": "code",
    "id": "F66B7Oskr80e",
    "outputId": "e5f7315e-9cf0-4b94-f6d4-eb33b4dc5486"
   },
   "outputs": [
    {
     "name": "stdout",
     "output_type": "stream",
     "text": [
      "<Document clustering result by LDA>\n",
      "Cluster 3 words: michael, family, german, british, war, camping\n",
      "Cluster 3 titles (17 movies): \n",
      "The Godfather, Schindler's List, Raging Bull, Lawrence of Arabia, The Godfather: Part II, The Bridge on the River Kwai, Apocalypse Now, Doctor Zhivago, Patton, The Pianist, The Deer Hunter, The King's Speech, Tootsie, The Grapes of Wrath, Shane, Mutiny on the Bounty, Double Indemnity\n",
      "\n",
      "Cluster 0 words: god, man, tom, sister, town, prison\n",
      "Cluster 0 titles (15 movies): \n",
      "The Shawshank Redemption, Gone with the Wind, The Wizard of Oz, 12 Angry Men, Amadeus, Gandhi, Unforgiven, Rocky, The Philadelphia Story, To Kill a Mockingbird, Ben-Hur, High Noon, Annie Hall, The Maltese Falcon, A Clockwork Orange\n",
      "\n",
      "Cluster 4 words: henry, singing, stage, performed, jeans, song\n",
      "Cluster 4 titles (10 movies): \n",
      "Casablanca, Citizen Kane, Singin' in the Rain, A Streetcar Named Desire, An American in Paris, The Good, the Bad and the Ugly, Goodfellas, Mr. Smith Goes to Washington, Nashville, Yankee Doodle Dandy\n",
      "\n",
      "Cluster 1 words: joe, car, jack, man, father, water\n",
      "Cluster 1 titles (28 movies): \n",
      "One Flew Over the Cuckoo's Nest, Titanic, Psycho, Sunset Blvd., Vertigo, On the Waterfront, E.T. the Extra-Terrestrial, 2001: A Space Odyssey, The Silence of the Lambs, Chinatown, Some Like It Hot, The Best Years of Our Lives, My Fair Lady, Jaws, The Treasure of the Sierra Madre, The Apartment, The Exorcist, The French Connection, City Lights, Midnight Cowboy, Rain Man, Good Will Hunting, Fargo, Network, American Graffiti, Wuthering Heights, Rear Window, North by Northwest\n",
      "\n",
      "Cluster 2 words: killing, george, soldiers, captain, army, returns\n",
      "Cluster 2 titles (30 movies): \n",
      "Forrest Gump, The Sound of Music, West Side Story, Star Wars, It's a Wonderful Life, Dr. Strangelove or: How I Learned to Stop Worrying and Love the Bomb, The Lord of the Rings: The Return of the King, Gladiator, From Here to Eternity, Saving Private Ryan, Raiders of the Lost Ark, Braveheart, Butch Cassidy and the Sundance Kid, Platoon, Dances with Wolves, All Quiet on the Western Front, It Happened One Night, A Place in the Sun, Out of Africa, Terms of Endearment, Giant, The Green Mile, Close Encounters of the Third Kind, The Graduate, Pulp Fiction, The African Queen, Stagecoach, Taxi Driver, Rebel Without a Cause, The Third Man\n",
      "\n"
     ]
    }
   ],
   "source": [
    "# print out the clusters and topics and titles of the movies\n",
    "topic_doc_dict = {}\n",
    "print (\"<Document clustering result by LDA>\")\n",
    "for i in range(len(doc_topic)):\n",
    "    topicID = doc_topic[i].argmax()\n",
    "    if topicID not in topic_doc_dict:\n",
    "        topic_doc_dict[topicID] = [titles[i]]\n",
    "    else:\n",
    "        topic_doc_dict[topicID].append(titles[i])\n",
    "for i in topic_doc_dict:\n",
    "    print (\"Cluster \" + str(i) + \" words: \" + \", \".join(topic_keywords_list[i]))\n",
    "    print (\"Cluster \" + str(i) + \" titles (\" + str(len(topic_doc_dict[i])) + \" movies): \")\n",
    "    print (', '.join(topic_doc_dict[i]))\n",
    "    print ()"
   ]
  }
 ],
 "metadata": {
  "colab": {
   "name": "NLP Neo.ipynb",
   "provenance": []
  },
  "kernelspec": {
   "display_name": "Python 3",
   "language": "python",
   "name": "python3"
  },
  "language_info": {
   "codemirror_mode": {
    "name": "ipython",
    "version": 3
   },
   "file_extension": ".py",
   "mimetype": "text/x-python",
   "name": "python",
   "nbconvert_exporter": "python",
   "pygments_lexer": "ipython3",
   "version": "3.7.3"
  }
 },
 "nbformat": 4,
 "nbformat_minor": 1
}
